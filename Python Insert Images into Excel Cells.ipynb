{
 "cells": [
  {
   "cell_type": "code",
   "execution_count": 19,
   "metadata": {},
   "outputs": [],
   "source": [
    "# Insert Multiple Images into Excel Cells with Python\n",
    "# PULL IN FILENAMES AND TITLES INSTEAD OF ADDING MANUALLY\n",
    "\n",
    "import xlsxwriter\n",
    "import glob\n",
    "import os\n",
    "from natsort import natsorted\n",
    "\n",
    "# create a new Excel file and add a worksheet\n",
    "workbook = xlsxwriter.Workbook('excel_insert_images.xlsx')\n",
    "worksheet = workbook.add_worksheet()\n",
    "\n",
    "# resize cells\n",
    "# worksheet.set_column('B1:B5', 7)\n",
    "worksheet.set_column(first_col=0, last_col=0, width=10)\n",
    "worksheet.set_column(first_col=1, last_col=1, width=7)\n",
    "worksheet.set_default_row(45)\n",
    "\n",
    "# images list\n",
    "images = []\n",
    "for filename in natsorted(glob.glob('Shapes/*.png')):\n",
    "    images.append(filename)\n",
    "\n",
    "# insert images\n",
    "image_row = 0\n",
    "image_col = 1\n",
    "for image in images:\n",
    "    worksheet.insert_image(image_row, \n",
    "                           image_col, \n",
    "                           image, \n",
    "                           {'x_scale': 0.5, 'y_scale': 0.5, \n",
    "                            'x_offset': 5, 'y_offset': 5,\n",
    "                            'positioning': 1}) \n",
    "    # positioning = 1 allows move and size with cells (may not always perform as expected)\n",
    "    image_row += 1\n",
    "    \n",
    "# titles list\n",
    "titles = []\n",
    "for title in natsorted(glob.glob('Shapes/*.png')):\n",
    "    titles.append(os.path.basename(title))\n",
    "\n",
    "# insert titles\n",
    "title_row = 0\n",
    "title_col = 0\n",
    "for title in titles:\n",
    "    worksheet.write(title_row,\n",
    "                    title_col,\n",
    "                    title)\n",
    "    title_row += 1\n",
    "\n",
    "workbook.close()"
   ]
  }
 ],
 "metadata": {
  "kernelspec": {
   "display_name": "Python 3",
   "language": "python",
   "name": "python3"
  },
  "language_info": {
   "codemirror_mode": {
    "name": "ipython",
    "version": 3
   },
   "file_extension": ".py",
   "mimetype": "text/x-python",
   "name": "python",
   "nbconvert_exporter": "python",
   "pygments_lexer": "ipython3",
   "version": "3.7.6"
  },
  "varInspector": {
   "cols": {
    "lenName": 16,
    "lenType": 16,
    "lenVar": 40
   },
   "kernels_config": {
    "python": {
     "delete_cmd_postfix": "",
     "delete_cmd_prefix": "del ",
     "library": "var_list.py",
     "varRefreshCmd": "print(var_dic_list())"
    },
    "r": {
     "delete_cmd_postfix": ") ",
     "delete_cmd_prefix": "rm(",
     "library": "var_list.r",
     "varRefreshCmd": "cat(var_dic_list()) "
    }
   },
   "types_to_exclude": [
    "module",
    "function",
    "builtin_function_or_method",
    "instance",
    "_Feature"
   ],
   "window_display": false
  }
 },
 "nbformat": 4,
 "nbformat_minor": 2
}
